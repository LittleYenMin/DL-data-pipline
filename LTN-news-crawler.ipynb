{
 "cells": [
  {
   "cell_type": "markdown",
   "metadata": {},
   "source": [
    "相依套件\n",
    "----------"
   ]
  },
  {
   "cell_type": "code",
   "execution_count": 5,
   "metadata": {},
   "outputs": [],
   "source": [
    "import lxml.html\n",
    "import requests"
   ]
  },
  {
   "cell_type": "markdown",
   "metadata": {},
   "source": [
    "向自由時報(LTN)發起請求(request)\n",
    "------"
   ]
  },
  {
   "cell_type": "code",
   "execution_count": 3,
   "metadata": {},
   "outputs": [
    {
     "data": {
      "text/plain": [
       "<Response [200]>"
      ]
     },
     "execution_count": 3,
     "metadata": {},
     "output_type": "execute_result"
    }
   ],
   "source": [
    "# 搜尋國際相關新聞\n",
    "response = requests.get('https://news.ltn.com.tw/search?keyword={}'.format('國際'))\n",
    "response"
   ]
  },
  {
   "cell_type": "code",
   "execution_count": 6,
   "metadata": {},
   "outputs": [
    {
     "data": {
      "text/plain": [
       "<Element html at 0x11051a188>"
      ]
     },
     "execution_count": 6,
     "metadata": {},
     "output_type": "execute_result"
    }
   ],
   "source": [
    "def parse_to_tree(html: str):\n",
    "    return lxml.html.fromstring(html)\n",
    "\n",
    "tree = parse_to_tree(response.content.decode('utf-8'))\n",
    "tree"
   ]
  },
  {
   "cell_type": "markdown",
   "metadata": {},
   "source": [
    "透過XPath擷取連結標籤\n",
    "--------------------------"
   ]
  },
  {
   "cell_type": "code",
   "execution_count": 24,
   "metadata": {},
   "outputs": [
    {
     "data": {
      "text/plain": [
       "(['冰冷政策下悲劇正在發生外媒捕捉這畫面讓人鼻酸...',\n",
       "  '最後1個長約！中美晶認列虧損性合約負債準備43.5億元',\n",
       "  '自由開講》郭台銘的最強外掛是在開什麼玩笑？',\n",
       "  '不保密了！臉書與法國合作可提交涉「仇視言論」用戶個資'],\n",
       " ['https://news.ltn.com.tw/news/world/breakingnews/2834110',\n",
       "  'https://news.ltn.com.tw/news/business/breakingnews/2834321',\n",
       "  'https://news.ltn.com.tw/news/opinion/breakingnews/2834296',\n",
       "  'https://news.ltn.com.tw/news/world/breakingnews/2834181'])"
      ]
     },
     "execution_count": 24,
     "metadata": {},
     "output_type": "execute_result"
    }
   ],
   "source": [
    "atags_xpath = \"//ul[@id='newslistul']//a[contains(@class, 'tit')]\"\n",
    "atags = tree.xpath(atags_xpath)\n",
    "titles = []\n",
    "links = []\n",
    "for atag in atags[1:5]:\n",
    "    title = atag.text_content().replace('\\n', '').replace(' ', '')\n",
    "    titles.append(title)\n",
    "    links.append('https://news.ltn.com.tw/{sub_path}'.format(sub_path=atag.attrib['href']))\n",
    "titles, links"
   ]
  },
  {
   "cell_type": "markdown",
   "metadata": {},
   "source": [
    "![](./readme/search-atags.png)"
   ]
  }
 ],
 "metadata": {
  "kernelspec": {
   "display_name": "Python 3",
   "language": "python",
   "name": "python3"
  },
  "language_info": {
   "codemirror_mode": {
    "name": "ipython",
    "version": 3
   },
   "file_extension": ".py",
   "mimetype": "text/x-python",
   "name": "python",
   "nbconvert_exporter": "python",
   "pygments_lexer": "ipython3",
   "version": "3.7.3"
  }
 },
 "nbformat": 4,
 "nbformat_minor": 2
}
