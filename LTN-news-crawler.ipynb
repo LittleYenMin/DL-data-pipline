{
 "cells": [
  {
   "cell_type": "markdown",
   "metadata": {},
   "source": [
    "相依套件\n",
    "----------"
   ]
  },
  {
   "cell_type": "code",
   "execution_count": 25,
   "metadata": {},
   "outputs": [],
   "source": [
    "import lxml.html\n",
    "import requests"
   ]
  },
  {
   "cell_type": "markdown",
   "metadata": {},
   "source": [
    "向自由時報(LTN)發起請求(request)\n",
    "------"
   ]
  },
  {
   "cell_type": "code",
   "execution_count": 26,
   "metadata": {},
   "outputs": [
    {
     "data": {
      "text/plain": [
       "<Response [200]>"
      ]
     },
     "execution_count": 26,
     "metadata": {},
     "output_type": "execute_result"
    }
   ],
   "source": [
    "# 搜尋國際相關新聞\n",
    "response = requests.get('https://news.ltn.com.tw/search?keyword={}'.format('國際'))\n",
    "response"
   ]
  },
  {
   "cell_type": "code",
   "execution_count": 27,
   "metadata": {},
   "outputs": [
    {
     "data": {
      "text/plain": [
       "<Element html at 0x1105a84a8>"
      ]
     },
     "execution_count": 27,
     "metadata": {},
     "output_type": "execute_result"
    }
   ],
   "source": [
    "def parse_to_tree(html: str):\n",
    "    return lxml.html.fromstring(html)\n",
    "\n",
    "tree = parse_to_tree(response.content.decode('utf-8'))\n",
    "tree"
   ]
  },
  {
   "cell_type": "markdown",
   "metadata": {},
   "source": [
    "透過XPath擷取連結標籤\n",
    "--------------------------"
   ]
  },
  {
   "cell_type": "code",
   "execution_count": 44,
   "metadata": {},
   "outputs": [
    {
     "data": {
      "text/plain": [
       "(['國際金價創新高印度黃金需求恐年減10％至3年最低',\n",
       "  '港人7/1再上街民進黨研議擴大聲援香港',\n",
       "  '政治的日常》追放者的內閣（三）：岸信介內閣',\n",
       "  '劉鶴談判團隊遭爆溝通差、經驗少川習會前找「他」來救火',\n",
       "  '交大與中研院合作唸博士班可月領40K-50K'],\n",
       " ['https://news.ltn.com.tw/news/business/breakingnews/2834311',\n",
       "  'https://news.ltn.com.tw/news/politics/breakingnews/2834350',\n",
       "  'https://news.ltn.com.tw/news/opinion/breakingnews/2834339',\n",
       "  'https://news.ltn.com.tw/news/business/breakingnews/2834304',\n",
       "  'https://news.ltn.com.tw/news/life/breakingnews/2834340'])"
      ]
     },
     "execution_count": 44,
     "metadata": {},
     "output_type": "execute_result"
    }
   ],
   "source": [
    "atags_xpath = \"//ul[@id='newslistul']//a[contains(@class, 'tit')]\"\n",
    "atags = tree.xpath(atags_xpath)\n",
    "\n",
    "def get_titles_and_links(atags) -> ([str], [str]):\n",
    "    titles, links = [], []\n",
    "    for atag in atags:\n",
    "        titles.append(atag.text_content().replace('\\n', '').replace(' ', ''))\n",
    "        links.append('https://news.ltn.com.tw/{sub_path}'.format(sub_path=atag.attrib['href']))\n",
    "    return (titles, links)\n",
    "titles, links = get_titles_and_links(atags)\n",
    "titles[:5], links[:5]"
   ]
  },
  {
   "cell_type": "markdown",
   "metadata": {},
   "source": [
    "![](./readme/search-atags.png)"
   ]
  }
 ],
 "metadata": {
  "kernelspec": {
   "display_name": "Python 3",
   "language": "python",
   "name": "python3"
  },
  "language_info": {
   "codemirror_mode": {
    "name": "ipython",
    "version": 3
   },
   "file_extension": ".py",
   "mimetype": "text/x-python",
   "name": "python",
   "nbconvert_exporter": "python",
   "pygments_lexer": "ipython3",
   "version": "3.7.3"
  }
 },
 "nbformat": 4,
 "nbformat_minor": 2
}
