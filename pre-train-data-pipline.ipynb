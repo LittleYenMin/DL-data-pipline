{
 "cells": [
  {
   "cell_type": "markdown",
   "metadata": {},
   "source": [
    "引入依賴套件\n",
    "----------"
   ]
  },
  {
   "cell_type": "code",
   "execution_count": 152,
   "metadata": {},
   "outputs": [],
   "source": [
    "import json\n",
    "import collections\n",
    "\n",
    "import keras\n",
    "import jieba\n",
    "\n",
    "import numpy as np\n",
    "import pandas as pd"
   ]
  },
  {
   "cell_type": "code",
   "execution_count": 153,
   "metadata": {},
   "outputs": [
    {
     "data": {
      "text/html": [
       "<div>\n",
       "<style scoped>\n",
       "    .dataframe tbody tr th:only-of-type {\n",
       "        vertical-align: middle;\n",
       "    }\n",
       "\n",
       "    .dataframe tbody tr th {\n",
       "        vertical-align: top;\n",
       "    }\n",
       "\n",
       "    .dataframe thead th {\n",
       "        text-align: right;\n",
       "    }\n",
       "</style>\n",
       "<table border=\"1\" class=\"dataframe\">\n",
       "  <thead>\n",
       "    <tr style=\"text-align: right;\">\n",
       "      <th></th>\n",
       "      <th>摘要</th>\n",
       "      <th>標註</th>\n",
       "    </tr>\n",
       "  </thead>\n",
       "  <tbody>\n",
       "    <tr>\n",
       "      <th>0</th>\n",
       "      <td>中國福建省武平縣13日因連日強降雨，導致該縣平川街道東門市場旁的山坡發生山崩，多輛停在路旁的...</td>\n",
       "      <td>土石流</td>\n",
       "    </tr>\n",
       "    <tr>\n",
       "      <th>1</th>\n",
       "      <td>中國南方多省自6月上旬以來持續暴雨，各地紛紛出現洪水，統計至今已釀61死、14人失蹤、531...</td>\n",
       "      <td>水災</td>\n",
       "    </tr>\n",
       "    <tr>\n",
       "      <th>2</th>\n",
       "      <td>日本南部鹿兒島屋久島鎮，昨天一個下午降雨420毫米雨量，打破當地50年來最大單日降雨量，由於...</td>\n",
       "      <td>大雨</td>\n",
       "    </tr>\n",
       "    <tr>\n",
       "      <th>3</th>\n",
       "      <td>日本沖繩縣與那國島距離宜蘭僅有111公里，今日上午遭遇了一場暴雨，由於降雨量極大，日本氣象廳...</td>\n",
       "      <td>大雨</td>\n",
       "    </tr>\n",
       "    <tr>\n",
       "      <th>4</th>\n",
       "      <td>日本沖繩縣與那國島距離宜蘭僅有111公里，今日上午遭遇了一場暴雨，由於降雨量極大，日本氣象廳...</td>\n",
       "      <td>大雨</td>\n",
       "    </tr>\n",
       "  </tbody>\n",
       "</table>\n",
       "</div>"
      ],
      "text/plain": [
       "                                                  摘要   標註\n",
       "0  中國福建省武平縣13日因連日強降雨，導致該縣平川街道東門市場旁的山坡發生山崩，多輛停在路旁的...  土石流\n",
       "1  中國南方多省自6月上旬以來持續暴雨，各地紛紛出現洪水，統計至今已釀61死、14人失蹤、531...   水災\n",
       "2  日本南部鹿兒島屋久島鎮，昨天一個下午降雨420毫米雨量，打破當地50年來最大單日降雨量，由於...   大雨\n",
       "3  日本沖繩縣與那國島距離宜蘭僅有111公里，今日上午遭遇了一場暴雨，由於降雨量極大，日本氣象廳...   大雨\n",
       "4  日本沖繩縣與那國島距離宜蘭僅有111公里，今日上午遭遇了一場暴雨，由於降雨量極大，日本氣象廳...   大雨"
      ]
     },
     "execution_count": 153,
     "metadata": {},
     "output_type": "execute_result"
    }
   ],
   "source": [
    "data_df = pd.read_csv('./data.csv', encoding = 'utf-8')\n",
    "data_df.head() #取得前五名資料並輸出"
   ]
  },
  {
   "cell_type": "code",
   "execution_count": 154,
   "metadata": {},
   "outputs": [],
   "source": [
    "def segmentation(sentence: str) -> list:\n",
    "    return jieba.lcut(sentence)"
   ]
  },
  {
   "cell_type": "markdown",
   "metadata": {},
   "source": [
    "將摘要進行中文斷詞\n",
    "---------------------"
   ]
  },
  {
   "cell_type": "code",
   "execution_count": 155,
   "metadata": {},
   "outputs": [
    {
     "data": {
      "text/html": [
       "<div>\n",
       "<style scoped>\n",
       "    .dataframe tbody tr th:only-of-type {\n",
       "        vertical-align: middle;\n",
       "    }\n",
       "\n",
       "    .dataframe tbody tr th {\n",
       "        vertical-align: top;\n",
       "    }\n",
       "\n",
       "    .dataframe thead th {\n",
       "        text-align: right;\n",
       "    }\n",
       "</style>\n",
       "<table border=\"1\" class=\"dataframe\">\n",
       "  <thead>\n",
       "    <tr style=\"text-align: right;\">\n",
       "      <th></th>\n",
       "      <th>摘要</th>\n",
       "      <th>標註</th>\n",
       "      <th>segmentation</th>\n",
       "    </tr>\n",
       "  </thead>\n",
       "  <tbody>\n",
       "    <tr>\n",
       "      <th>0</th>\n",
       "      <td>中國福建省武平縣13日因連日強降雨，導致該縣平川街道東門市場旁的山坡發生山崩，多輛停在路旁的...</td>\n",
       "      <td>土石流</td>\n",
       "      <td>[中國, 福建省, 武平, 縣, 13, 日因, 連日強, 降雨, ，, 導致, 該, 縣,...</td>\n",
       "    </tr>\n",
       "    <tr>\n",
       "      <th>1</th>\n",
       "      <td>中國南方多省自6月上旬以來持續暴雨，各地紛紛出現洪水，統計至今已釀61死、14人失蹤、531...</td>\n",
       "      <td>水災</td>\n",
       "      <td>[中國, 南方, 多省, 自, 6, 月, 上旬, 以來, 持續, 暴雨, ，, 各地, 紛...</td>\n",
       "    </tr>\n",
       "    <tr>\n",
       "      <th>2</th>\n",
       "      <td>日本南部鹿兒島屋久島鎮，昨天一個下午降雨420毫米雨量，打破當地50年來最大單日降雨量，由於...</td>\n",
       "      <td>大雨</td>\n",
       "      <td>[日本, 南部, 鹿兒島, 屋久, 島鎮, ，, 昨天, 一個, 下午, 降雨, 420, ...</td>\n",
       "    </tr>\n",
       "    <tr>\n",
       "      <th>3</th>\n",
       "      <td>日本沖繩縣與那國島距離宜蘭僅有111公里，今日上午遭遇了一場暴雨，由於降雨量極大，日本氣象廳...</td>\n",
       "      <td>大雨</td>\n",
       "      <td>[日本, 沖, 繩縣, 與, 那國島, 距離, 宜蘭僅, 有, 111, 公里, ，, 今日...</td>\n",
       "    </tr>\n",
       "    <tr>\n",
       "      <th>4</th>\n",
       "      <td>日本沖繩縣與那國島距離宜蘭僅有111公里，今日上午遭遇了一場暴雨，由於降雨量極大，日本氣象廳...</td>\n",
       "      <td>大雨</td>\n",
       "      <td>[日本, 沖, 繩縣, 與, 那國島, 距離, 宜蘭僅, 有, 111, 公里, ，, 今日...</td>\n",
       "    </tr>\n",
       "  </tbody>\n",
       "</table>\n",
       "</div>"
      ],
      "text/plain": [
       "                                                  摘要   標註  \\\n",
       "0  中國福建省武平縣13日因連日強降雨，導致該縣平川街道東門市場旁的山坡發生山崩，多輛停在路旁的...  土石流   \n",
       "1  中國南方多省自6月上旬以來持續暴雨，各地紛紛出現洪水，統計至今已釀61死、14人失蹤、531...   水災   \n",
       "2  日本南部鹿兒島屋久島鎮，昨天一個下午降雨420毫米雨量，打破當地50年來最大單日降雨量，由於...   大雨   \n",
       "3  日本沖繩縣與那國島距離宜蘭僅有111公里，今日上午遭遇了一場暴雨，由於降雨量極大，日本氣象廳...   大雨   \n",
       "4  日本沖繩縣與那國島距離宜蘭僅有111公里，今日上午遭遇了一場暴雨，由於降雨量極大，日本氣象廳...   大雨   \n",
       "\n",
       "                                        segmentation  \n",
       "0  [中國, 福建省, 武平, 縣, 13, 日因, 連日強, 降雨, ，, 導致, 該, 縣,...  \n",
       "1  [中國, 南方, 多省, 自, 6, 月, 上旬, 以來, 持續, 暴雨, ，, 各地, 紛...  \n",
       "2  [日本, 南部, 鹿兒島, 屋久, 島鎮, ，, 昨天, 一個, 下午, 降雨, 420, ...  \n",
       "3  [日本, 沖, 繩縣, 與, 那國島, 距離, 宜蘭僅, 有, 111, 公里, ，, 今日...  \n",
       "4  [日本, 沖, 繩縣, 與, 那國島, 距離, 宜蘭僅, 有, 111, 公里, ，, 今日...  "
      ]
     },
     "execution_count": 155,
     "metadata": {},
     "output_type": "execute_result"
    }
   ],
   "source": [
    "data_df['segmentation'] = data_df['摘要'].apply(segmentation)\n",
    "data_df.head()"
   ]
  },
  {
   "cell_type": "markdown",
   "metadata": {},
   "source": [
    "將斷詞結果整合成陣列，並計算最大長度的詞句\n",
    "-----------------------------------"
   ]
  },
  {
   "cell_type": "code",
   "execution_count": 156,
   "metadata": {},
   "outputs": [],
   "source": [
    "import sys\n",
    "\n",
    "def get_all_vocab_from_data(data):\n",
    "    \"\"\"\n",
    "        將字詞全部整合成一個陣列(array)\n",
    "        :param data: 字詞陣列(二維)\n",
    "    \"\"\"\n",
    "    train_vocab_list = []\n",
    "    min_cut_query_length = sys.maxsize\n",
    "    max_cut_query_length = 0\n",
    "    for cut_query in data:\n",
    "        query_length = len(cut_query)\n",
    "        max_cut_query_length = max(max_cut_query_length, query_length)\n",
    "        min_cut_query_length = min(min_cut_query_length, query_length)\n",
    "        train_vocab_list += cut_query\n",
    "    return train_vocab_list, max_cut_query_length, min_cut_query_length"
   ]
  },
  {
   "cell_type": "code",
   "execution_count": 157,
   "metadata": {},
   "outputs": [],
   "source": [
    "train_vocab_list, max_cut_query_length, min_cut_query_length = get_all_vocab_from_data(data_df['segmentation'])"
   ]
  },
  {
   "cell_type": "code",
   "execution_count": 158,
   "metadata": {},
   "outputs": [
    {
     "name": "stdout",
     "output_type": "stream",
     "text": [
      "最長斷詞長度: 178\n",
      "最短斷詞長度: 16\n",
      "斷詞結果: 4652 詞 (重複)\n",
      "斷詞結果: 1178 詞 (不重複)\n"
     ]
    }
   ],
   "source": [
    "print('最長斷詞長度: {}'.format(max_cut_query_length))\n",
    "print('最短斷詞長度: {}'.format(min_cut_query_length))\n",
    "print('斷詞結果: {} 詞 (重複)'.format(len(train_vocab_list)))\n",
    "print('斷詞結果: {} 詞 (不重複)'.format(len(set(train_vocab_list))))"
   ]
  },
  {
   "cell_type": "code",
   "execution_count": 159,
   "metadata": {},
   "outputs": [
    {
     "data": {
      "text/plain": [
       "[('，', 395), ('。', 118), ('（', 100), ('）', 100), ('地震', 86)]"
      ]
     },
     "execution_count": 159,
     "metadata": {},
     "output_type": "execute_result"
    }
   ],
   "source": [
    "train_vocab_counter = collections.Counter(train_vocab_list)\n",
    "train_vocab_counter.most_common(5)"
   ]
  },
  {
   "cell_type": "code",
   "execution_count": 160,
   "metadata": {},
   "outputs": [
    {
     "data": {
      "text/plain": [
       "[('地震', 42), ('土石流', 4), ('大雨', 3), ('水災', 2)]"
      ]
     },
     "execution_count": 160,
     "metadata": {},
     "output_type": "execute_result"
    }
   ],
   "source": [
    "label_counter = collections.Counter(data_df['標註'])\n",
    "label_counter.most_common() #最常用的前五名"
   ]
  },
  {
   "cell_type": "markdown",
   "metadata": {},
   "source": [
    "統計沒有用途的詞（低使用率）\n",
    "-------------"
   ]
  },
  {
   "cell_type": "code",
   "execution_count": 161,
   "metadata": {},
   "outputs": [
    {
     "name": "stdout",
     "output_type": "stream",
     "text": [
      "只使用到一次的詞: 646種\n",
      "佔全部 54.83870967741935 %\n"
     ]
    }
   ],
   "source": [
    "def statistic_zero_usage_word(counter: collections.Counter) -> int:\n",
    "    \"\"\"\n",
    "        統計計數器中沒有使用到的詞(count==1)\n",
    "        :param counter: 計數器\n",
    "    \"\"\"\n",
    "    counter = 0\n",
    "    for word, times in train_vocab_counter.items():\n",
    "        if times <=1:\n",
    "            counter+=1\n",
    "    return counter\n",
    "train_data_times_zero = statistic_zero_usage_word(train_vocab_counter)\n",
    "print('只使用到一次的詞: {}種'.format(train_data_times_zero))\n",
    "print('佔全部 {} %'.format(train_data_times_zero/len(train_vocab_counter)*100))"
   ]
  },
  {
   "cell_type": "markdown",
   "metadata": {},
   "source": [
    "讀取和寫入JSON file的函數\n",
    "-----------"
   ]
  },
  {
   "cell_type": "code",
   "execution_count": 162,
   "metadata": {},
   "outputs": [],
   "source": [
    "def read_from_json(path: str) -> dict:\n",
    "    \"\"\"\n",
    "        將.JSON的檔案載入成字典\n",
    "        :param path: 檔案路徑 如./data.json\n",
    "    \"\"\"\n",
    "    with open(path, encoding='utf-8') as f:\n",
    "        return json.load(f)\n",
    "    \n",
    "def write_to_json(path: str, data: dict):\n",
    "    \"\"\"\n",
    "        將字典寫入成.JSON檔\n",
    "        :param path: 檔案路徑 如./data.json\n",
    "        :param data: 資料字典 {key: value}\n",
    "    \"\"\"\n",
    "    with open(path, 'w', encoding='utf-8') as f:\n",
    "        json.dump(data, f, ensure_ascii=False)"
   ]
  },
  {
   "cell_type": "markdown",
   "metadata": {},
   "source": [
    "轉換Counter成字典並儲存成data_count.json\n",
    "--------"
   ]
  },
  {
   "cell_type": "code",
   "execution_count": 163,
   "metadata": {},
   "outputs": [],
   "source": [
    "write_to_json('./data_count.json', dict(train_vocab_counter))"
   ]
  },
  {
   "cell_type": "markdown",
   "metadata": {},
   "source": [
    "補充：讀取data_count.json後再轉換回Counter\n",
    "------"
   ]
  },
  {
   "cell_type": "code",
   "execution_count": 164,
   "metadata": {},
   "outputs": [
    {
     "data": {
      "text/plain": [
       "[('，', 395), ('。', 118), ('（', 100), ('）', 100), ('地震', 86)]"
      ]
     },
     "execution_count": 164,
     "metadata": {},
     "output_type": "execute_result"
    }
   ],
   "source": [
    "data = read_from_json('./data_count.json')\n",
    "counter = collections.Counter(data)\n",
    "counter.most_common(5)"
   ]
  },
  {
   "cell_type": "markdown",
   "metadata": {},
   "source": [
    "建立分詞索引表並儲存到word_index.json\n",
    "--------"
   ]
  },
  {
   "cell_type": "code",
   "execution_count": 165,
   "metadata": {},
   "outputs": [
    {
     "name": "stdout",
     "output_type": "stream",
     "text": [
      "分詞索引表長度: 1178\n"
     ]
    },
    {
     "data": {
      "text/html": [
       "<div>\n",
       "<style scoped>\n",
       "    .dataframe tbody tr th:only-of-type {\n",
       "        vertical-align: middle;\n",
       "    }\n",
       "\n",
       "    .dataframe tbody tr th {\n",
       "        vertical-align: top;\n",
       "    }\n",
       "\n",
       "    .dataframe thead th {\n",
       "        text-align: right;\n",
       "    }\n",
       "</style>\n",
       "<table border=\"1\" class=\"dataframe\">\n",
       "  <thead>\n",
       "    <tr style=\"text-align: right;\">\n",
       "      <th></th>\n",
       "      <th>0</th>\n",
       "      <th>1</th>\n",
       "    </tr>\n",
       "  </thead>\n",
       "  <tbody>\n",
       "    <tr>\n",
       "      <th>0</th>\n",
       "      <td>，</td>\n",
       "      <td>0</td>\n",
       "    </tr>\n",
       "    <tr>\n",
       "      <th>1</th>\n",
       "      <td>。</td>\n",
       "      <td>1</td>\n",
       "    </tr>\n",
       "    <tr>\n",
       "      <th>2</th>\n",
       "      <td>（</td>\n",
       "      <td>2</td>\n",
       "    </tr>\n",
       "    <tr>\n",
       "      <th>3</th>\n",
       "      <td>）</td>\n",
       "      <td>3</td>\n",
       "    </tr>\n",
       "    <tr>\n",
       "      <th>4</th>\n",
       "      <td>地震</td>\n",
       "      <td>4</td>\n",
       "    </tr>\n",
       "  </tbody>\n",
       "</table>\n",
       "</div>"
      ],
      "text/plain": [
       "    0  1\n",
       "0   ，  0\n",
       "1   。  1\n",
       "2   （  2\n",
       "3   ）  3\n",
       "4  地震  4"
      ]
     },
     "execution_count": 165,
     "metadata": {},
     "output_type": "execute_result"
    }
   ],
   "source": [
    "def counter_to_key_index_table(counter: collections.Counter) -> dict:\n",
    "    \"\"\"\n",
    "        將輸入的Counter中的資料轉化成key, index\n",
    "        :param counter: \n",
    "    \"\"\"\n",
    "    index = 0\n",
    "    result = {}\n",
    "    for key, value in counter.most_common(): #這樣的做法能讓最後建出的表依照使用順序排序(越常使用越前面)\n",
    "        result[key] = index\n",
    "        index+=1\n",
    "    return result\n",
    "word_to_index = counter_to_key_index_table(train_vocab_counter)\n",
    "write_to_json('word_index.json', word_to_index) #儲存到word_index.json\n",
    "print('分詞索引表長度: {}'.format(len(word_to_index)))\n",
    "visualize_df = pd.DataFrame.from_dict(word_to_index.items())\n",
    "visualize_df.head() #視覺化查看資料"
   ]
  },
  {
   "cell_type": "markdown",
   "metadata": {},
   "source": [
    "建立標籤索引表並儲存到label_index.json\n",
    "--------"
   ]
  },
  {
   "cell_type": "code",
   "execution_count": 166,
   "metadata": {},
   "outputs": [
    {
     "name": "stdout",
     "output_type": "stream",
     "text": [
      "標籤索引表長度 4\n"
     ]
    }
   ],
   "source": [
    "label_to_index = counter_to_key_index_table(label_counter)\n",
    "write_to_json('label_index.json', label_to_index)\n",
    "print('標籤索引表長度 {}'.format(len(label_to_index)))"
   ]
  },
  {
   "cell_type": "markdown",
   "metadata": {},
   "source": [
    "補充：將word_index.json讀入後翻轉成index: word的形式\n",
    "----------"
   ]
  },
  {
   "cell_type": "code",
   "execution_count": 167,
   "metadata": {},
   "outputs": [
    {
     "data": {
      "text/html": [
       "<div>\n",
       "<style scoped>\n",
       "    .dataframe tbody tr th:only-of-type {\n",
       "        vertical-align: middle;\n",
       "    }\n",
       "\n",
       "    .dataframe tbody tr th {\n",
       "        vertical-align: top;\n",
       "    }\n",
       "\n",
       "    .dataframe thead th {\n",
       "        text-align: right;\n",
       "    }\n",
       "</style>\n",
       "<table border=\"1\" class=\"dataframe\">\n",
       "  <thead>\n",
       "    <tr style=\"text-align: right;\">\n",
       "      <th></th>\n",
       "      <th>0</th>\n",
       "      <th>1</th>\n",
       "    </tr>\n",
       "  </thead>\n",
       "  <tbody>\n",
       "    <tr>\n",
       "      <th>0</th>\n",
       "      <td>0</td>\n",
       "      <td>，</td>\n",
       "    </tr>\n",
       "    <tr>\n",
       "      <th>1</th>\n",
       "      <td>1</td>\n",
       "      <td>。</td>\n",
       "    </tr>\n",
       "    <tr>\n",
       "      <th>2</th>\n",
       "      <td>2</td>\n",
       "      <td>（</td>\n",
       "    </tr>\n",
       "    <tr>\n",
       "      <th>3</th>\n",
       "      <td>3</td>\n",
       "      <td>）</td>\n",
       "    </tr>\n",
       "    <tr>\n",
       "      <th>4</th>\n",
       "      <td>4</td>\n",
       "      <td>地震</td>\n",
       "    </tr>\n",
       "  </tbody>\n",
       "</table>\n",
       "</div>"
      ],
      "text/plain": [
       "   0   1\n",
       "0  0   ，\n",
       "1  1   。\n",
       "2  2   （\n",
       "3  3   ）\n",
       "4  4  地震"
      ]
     },
     "execution_count": 167,
     "metadata": {},
     "output_type": "execute_result"
    }
   ],
   "source": [
    "word_to_index = read_from_json('./word_index.json')\n",
    "index_to_word = {index: word for word, index in word_to_index.items()}\n",
    "visualize_df = pd.DataFrame.from_dict(index_to_word.items())\n",
    "visualize_df.head() #視覺化查看資料\n",
    "#ref: https://stackoverflow.com/questions/483666/python-reverse-invert-a-mapping"
   ]
  },
  {
   "cell_type": "markdown",
   "metadata": {},
   "source": [
    "將詞句轉向量\n",
    "---"
   ]
  },
  {
   "cell_type": "code",
   "execution_count": 168,
   "metadata": {},
   "outputs": [],
   "source": [
    "def sentence_vetorize(sentences: [str], labels: [str], word_to_index: dict, label_to_index: dict, max_length: int) -> (np.ndarray, np.ndarray):\n",
    "    \"\"\"\n",
    "        將詞句轉為向量(numpy陣列)\n",
    "        :param sentences: 經過斷詞的詞句array\n",
    "        :param labels: 對應詞句的標籤\n",
    "        :param word_to_index: 單字的索引表\n",
    "        :param label_to_index: 標籤的索引表\n",
    "        :max_length: 文字產出的最大長度, 如為100 可斷詞結果長度為176 後面76個則會被捨棄\n",
    "    \"\"\"\n",
    "    x_data = []\n",
    "    y_label = []\n",
    "    for sentence, label in zip(sentences, labels):\n",
    "        x = [word_to_index.get(vacob, 0) for vacob in sentence]\n",
    "        y = [label_to_index.get(label, 0)]\n",
    "        x_data.append(x)\n",
    "        y_label.append(y)\n",
    "    return (keras.preprocessing.sequence.pad_sequences(x_data, maxlen=max_length),\n",
    "            keras.preprocessing.sequence.pad_sequences(y_label, maxlen=1))\n",
    "    "
   ]
  },
  {
   "cell_type": "code",
   "execution_count": 169,
   "metadata": {},
   "outputs": [
    {
     "data": {
      "text/html": [
       "<div>\n",
       "<style scoped>\n",
       "    .dataframe tbody tr th:only-of-type {\n",
       "        vertical-align: middle;\n",
       "    }\n",
       "\n",
       "    .dataframe tbody tr th {\n",
       "        vertical-align: top;\n",
       "    }\n",
       "\n",
       "    .dataframe thead th {\n",
       "        text-align: right;\n",
       "    }\n",
       "</style>\n",
       "<table border=\"1\" class=\"dataframe\">\n",
       "  <thead>\n",
       "    <tr style=\"text-align: right;\">\n",
       "      <th></th>\n",
       "      <th>0</th>\n",
       "      <th>1</th>\n",
       "      <th>2</th>\n",
       "      <th>3</th>\n",
       "      <th>4</th>\n",
       "      <th>5</th>\n",
       "      <th>6</th>\n",
       "      <th>7</th>\n",
       "      <th>8</th>\n",
       "      <th>9</th>\n",
       "      <th>...</th>\n",
       "      <th>90</th>\n",
       "      <th>91</th>\n",
       "      <th>92</th>\n",
       "      <th>93</th>\n",
       "      <th>94</th>\n",
       "      <th>95</th>\n",
       "      <th>96</th>\n",
       "      <th>97</th>\n",
       "      <th>98</th>\n",
       "      <th>99</th>\n",
       "    </tr>\n",
       "  </thead>\n",
       "  <tbody>\n",
       "    <tr>\n",
       "      <th>0</th>\n",
       "      <td>0</td>\n",
       "      <td>0</td>\n",
       "      <td>0</td>\n",
       "      <td>0</td>\n",
       "      <td>0</td>\n",
       "      <td>0</td>\n",
       "      <td>0</td>\n",
       "      <td>0</td>\n",
       "      <td>0</td>\n",
       "      <td>0</td>\n",
       "      <td>...</td>\n",
       "      <td>555</td>\n",
       "      <td>5</td>\n",
       "      <td>232</td>\n",
       "      <td>556</td>\n",
       "      <td>115</td>\n",
       "      <td>117</td>\n",
       "      <td>176</td>\n",
       "      <td>82</td>\n",
       "      <td>342</td>\n",
       "      <td>1</td>\n",
       "    </tr>\n",
       "    <tr>\n",
       "      <th>1</th>\n",
       "      <td>147</td>\n",
       "      <td>562</td>\n",
       "      <td>119</td>\n",
       "      <td>0</td>\n",
       "      <td>563</td>\n",
       "      <td>179</td>\n",
       "      <td>564</td>\n",
       "      <td>565</td>\n",
       "      <td>344</td>\n",
       "      <td>11</td>\n",
       "      <td>...</td>\n",
       "      <td>600</td>\n",
       "      <td>354</td>\n",
       "      <td>2</td>\n",
       "      <td>83</td>\n",
       "      <td>238</td>\n",
       "      <td>601</td>\n",
       "      <td>602</td>\n",
       "      <td>354</td>\n",
       "      <td>3</td>\n",
       "      <td>1</td>\n",
       "    </tr>\n",
       "    <tr>\n",
       "      <th>2</th>\n",
       "      <td>0</td>\n",
       "      <td>0</td>\n",
       "      <td>0</td>\n",
       "      <td>0</td>\n",
       "      <td>0</td>\n",
       "      <td>0</td>\n",
       "      <td>0</td>\n",
       "      <td>0</td>\n",
       "      <td>0</td>\n",
       "      <td>43</td>\n",
       "      <td>...</td>\n",
       "      <td>241</td>\n",
       "      <td>31</td>\n",
       "      <td>119</td>\n",
       "      <td>242</td>\n",
       "      <td>101</td>\n",
       "      <td>146</td>\n",
       "      <td>0</td>\n",
       "      <td>633</td>\n",
       "      <td>634</td>\n",
       "      <td>1</td>\n",
       "    </tr>\n",
       "    <tr>\n",
       "      <th>3</th>\n",
       "      <td>0</td>\n",
       "      <td>0</td>\n",
       "      <td>0</td>\n",
       "      <td>0</td>\n",
       "      <td>0</td>\n",
       "      <td>0</td>\n",
       "      <td>0</td>\n",
       "      <td>0</td>\n",
       "      <td>0</td>\n",
       "      <td>0</td>\n",
       "      <td>...</td>\n",
       "      <td>376</td>\n",
       "      <td>377</td>\n",
       "      <td>245</td>\n",
       "      <td>378</td>\n",
       "      <td>379</td>\n",
       "      <td>181</td>\n",
       "      <td>5</td>\n",
       "      <td>380</td>\n",
       "      <td>239</td>\n",
       "      <td>1</td>\n",
       "    </tr>\n",
       "    <tr>\n",
       "      <th>4</th>\n",
       "      <td>0</td>\n",
       "      <td>0</td>\n",
       "      <td>0</td>\n",
       "      <td>0</td>\n",
       "      <td>0</td>\n",
       "      <td>0</td>\n",
       "      <td>0</td>\n",
       "      <td>0</td>\n",
       "      <td>0</td>\n",
       "      <td>0</td>\n",
       "      <td>...</td>\n",
       "      <td>376</td>\n",
       "      <td>377</td>\n",
       "      <td>245</td>\n",
       "      <td>378</td>\n",
       "      <td>379</td>\n",
       "      <td>181</td>\n",
       "      <td>5</td>\n",
       "      <td>380</td>\n",
       "      <td>239</td>\n",
       "      <td>1</td>\n",
       "    </tr>\n",
       "  </tbody>\n",
       "</table>\n",
       "<p>5 rows × 100 columns</p>\n",
       "</div>"
      ],
      "text/plain": [
       "    0    1    2   3    4    5    6    7    8   9   ...   90   91   92   93  \\\n",
       "0    0    0    0   0    0    0    0    0    0   0  ...  555    5  232  556   \n",
       "1  147  562  119   0  563  179  564  565  344  11  ...  600  354    2   83   \n",
       "2    0    0    0   0    0    0    0    0    0  43  ...  241   31  119  242   \n",
       "3    0    0    0   0    0    0    0    0    0   0  ...  376  377  245  378   \n",
       "4    0    0    0   0    0    0    0    0    0   0  ...  376  377  245  378   \n",
       "\n",
       "    94   95   96   97   98  99  \n",
       "0  115  117  176   82  342   1  \n",
       "1  238  601  602  354    3   1  \n",
       "2  101  146    0  633  634   1  \n",
       "3  379  181    5  380  239   1  \n",
       "4  379  181    5  380  239   1  \n",
       "\n",
       "[5 rows x 100 columns]"
      ]
     },
     "execution_count": 169,
     "metadata": {},
     "output_type": "execute_result"
    }
   ],
   "source": [
    "x_train, y_train = sentence_vetorize(data_df['segmentation'], data_df['標註'], word_to_index, label_to_index, 100)\n",
    "x_train.shape, y_train.shape\n",
    "visualize_df = pd.DataFrame(x_train)\n",
    "visualize_df.head() #視覺化查看資料"
   ]
  },
  {
   "cell_type": "markdown",
   "metadata": {},
   "source": [
    "將標籤使用one-hot-encoding編碼\n",
    "----"
   ]
  },
  {
   "cell_type": "code",
   "execution_count": 170,
   "metadata": {},
   "outputs": [
    {
     "name": "stdout",
     "output_type": "stream",
     "text": [
      "shape (51, 4)\n"
     ]
    },
    {
     "data": {
      "text/html": [
       "<div>\n",
       "<style scoped>\n",
       "    .dataframe tbody tr th:only-of-type {\n",
       "        vertical-align: middle;\n",
       "    }\n",
       "\n",
       "    .dataframe tbody tr th {\n",
       "        vertical-align: top;\n",
       "    }\n",
       "\n",
       "    .dataframe thead th {\n",
       "        text-align: right;\n",
       "    }\n",
       "</style>\n",
       "<table border=\"1\" class=\"dataframe\">\n",
       "  <thead>\n",
       "    <tr style=\"text-align: right;\">\n",
       "      <th></th>\n",
       "      <th>0</th>\n",
       "      <th>1</th>\n",
       "      <th>2</th>\n",
       "      <th>3</th>\n",
       "    </tr>\n",
       "  </thead>\n",
       "  <tbody>\n",
       "    <tr>\n",
       "      <th>0</th>\n",
       "      <td>0.0</td>\n",
       "      <td>1.0</td>\n",
       "      <td>0.0</td>\n",
       "      <td>0.0</td>\n",
       "    </tr>\n",
       "    <tr>\n",
       "      <th>1</th>\n",
       "      <td>0.0</td>\n",
       "      <td>0.0</td>\n",
       "      <td>0.0</td>\n",
       "      <td>1.0</td>\n",
       "    </tr>\n",
       "    <tr>\n",
       "      <th>2</th>\n",
       "      <td>0.0</td>\n",
       "      <td>0.0</td>\n",
       "      <td>1.0</td>\n",
       "      <td>0.0</td>\n",
       "    </tr>\n",
       "    <tr>\n",
       "      <th>3</th>\n",
       "      <td>0.0</td>\n",
       "      <td>0.0</td>\n",
       "      <td>1.0</td>\n",
       "      <td>0.0</td>\n",
       "    </tr>\n",
       "    <tr>\n",
       "      <th>4</th>\n",
       "      <td>0.0</td>\n",
       "      <td>0.0</td>\n",
       "      <td>1.0</td>\n",
       "      <td>0.0</td>\n",
       "    </tr>\n",
       "  </tbody>\n",
       "</table>\n",
       "</div>"
      ],
      "text/plain": [
       "     0    1    2    3\n",
       "0  0.0  1.0  0.0  0.0\n",
       "1  0.0  0.0  0.0  1.0\n",
       "2  0.0  0.0  1.0  0.0\n",
       "3  0.0  0.0  1.0  0.0\n",
       "4  0.0  0.0  1.0  0.0"
      ]
     },
     "execution_count": 170,
     "metadata": {},
     "output_type": "execute_result"
    }
   ],
   "source": [
    "y_train = keras.utils.to_categorical(y_train, len(label_to_index))\n",
    "print('shape {}'.format(y_train.shape))\n",
    "visualize_df = pd.DataFrame(y_train)\n",
    "visualize_df.head() #視覺化查看資料"
   ]
  },
  {
   "cell_type": "markdown",
   "metadata": {},
   "source": [
    "存成.npz檔 （下次就直接load成numpy陣列不必再處理）\n",
    "------"
   ]
  },
  {
   "cell_type": "code",
   "execution_count": 173,
   "metadata": {},
   "outputs": [],
   "source": [
    "np.savez('training_data', x_train=x_train, y_train=y_train)"
   ]
  },
  {
   "cell_type": "markdown",
   "metadata": {},
   "source": [
    "載入.npz檔\n",
    "---------"
   ]
  },
  {
   "cell_type": "code",
   "execution_count": 177,
   "metadata": {},
   "outputs": [],
   "source": [
    "with np.load('./training_data.npz') as f:\n",
    "    x_train, y_train = f['x_train'], f['y_train']"
   ]
  },
  {
   "cell_type": "code",
   "execution_count": 178,
   "metadata": {},
   "outputs": [
    {
     "data": {
      "text/html": [
       "<div>\n",
       "<style scoped>\n",
       "    .dataframe tbody tr th:only-of-type {\n",
       "        vertical-align: middle;\n",
       "    }\n",
       "\n",
       "    .dataframe tbody tr th {\n",
       "        vertical-align: top;\n",
       "    }\n",
       "\n",
       "    .dataframe thead th {\n",
       "        text-align: right;\n",
       "    }\n",
       "</style>\n",
       "<table border=\"1\" class=\"dataframe\">\n",
       "  <thead>\n",
       "    <tr style=\"text-align: right;\">\n",
       "      <th></th>\n",
       "      <th>0</th>\n",
       "      <th>1</th>\n",
       "      <th>2</th>\n",
       "      <th>3</th>\n",
       "      <th>4</th>\n",
       "      <th>5</th>\n",
       "      <th>6</th>\n",
       "      <th>7</th>\n",
       "      <th>8</th>\n",
       "      <th>9</th>\n",
       "      <th>...</th>\n",
       "      <th>90</th>\n",
       "      <th>91</th>\n",
       "      <th>92</th>\n",
       "      <th>93</th>\n",
       "      <th>94</th>\n",
       "      <th>95</th>\n",
       "      <th>96</th>\n",
       "      <th>97</th>\n",
       "      <th>98</th>\n",
       "      <th>99</th>\n",
       "    </tr>\n",
       "  </thead>\n",
       "  <tbody>\n",
       "    <tr>\n",
       "      <th>0</th>\n",
       "      <td>0</td>\n",
       "      <td>0</td>\n",
       "      <td>0</td>\n",
       "      <td>0</td>\n",
       "      <td>0</td>\n",
       "      <td>0</td>\n",
       "      <td>0</td>\n",
       "      <td>0</td>\n",
       "      <td>0</td>\n",
       "      <td>0</td>\n",
       "      <td>...</td>\n",
       "      <td>555</td>\n",
       "      <td>5</td>\n",
       "      <td>232</td>\n",
       "      <td>556</td>\n",
       "      <td>115</td>\n",
       "      <td>117</td>\n",
       "      <td>176</td>\n",
       "      <td>82</td>\n",
       "      <td>342</td>\n",
       "      <td>1</td>\n",
       "    </tr>\n",
       "    <tr>\n",
       "      <th>1</th>\n",
       "      <td>147</td>\n",
       "      <td>562</td>\n",
       "      <td>119</td>\n",
       "      <td>0</td>\n",
       "      <td>563</td>\n",
       "      <td>179</td>\n",
       "      <td>564</td>\n",
       "      <td>565</td>\n",
       "      <td>344</td>\n",
       "      <td>11</td>\n",
       "      <td>...</td>\n",
       "      <td>600</td>\n",
       "      <td>354</td>\n",
       "      <td>2</td>\n",
       "      <td>83</td>\n",
       "      <td>238</td>\n",
       "      <td>601</td>\n",
       "      <td>602</td>\n",
       "      <td>354</td>\n",
       "      <td>3</td>\n",
       "      <td>1</td>\n",
       "    </tr>\n",
       "    <tr>\n",
       "      <th>2</th>\n",
       "      <td>0</td>\n",
       "      <td>0</td>\n",
       "      <td>0</td>\n",
       "      <td>0</td>\n",
       "      <td>0</td>\n",
       "      <td>0</td>\n",
       "      <td>0</td>\n",
       "      <td>0</td>\n",
       "      <td>0</td>\n",
       "      <td>43</td>\n",
       "      <td>...</td>\n",
       "      <td>241</td>\n",
       "      <td>31</td>\n",
       "      <td>119</td>\n",
       "      <td>242</td>\n",
       "      <td>101</td>\n",
       "      <td>146</td>\n",
       "      <td>0</td>\n",
       "      <td>633</td>\n",
       "      <td>634</td>\n",
       "      <td>1</td>\n",
       "    </tr>\n",
       "    <tr>\n",
       "      <th>3</th>\n",
       "      <td>0</td>\n",
       "      <td>0</td>\n",
       "      <td>0</td>\n",
       "      <td>0</td>\n",
       "      <td>0</td>\n",
       "      <td>0</td>\n",
       "      <td>0</td>\n",
       "      <td>0</td>\n",
       "      <td>0</td>\n",
       "      <td>0</td>\n",
       "      <td>...</td>\n",
       "      <td>376</td>\n",
       "      <td>377</td>\n",
       "      <td>245</td>\n",
       "      <td>378</td>\n",
       "      <td>379</td>\n",
       "      <td>181</td>\n",
       "      <td>5</td>\n",
       "      <td>380</td>\n",
       "      <td>239</td>\n",
       "      <td>1</td>\n",
       "    </tr>\n",
       "    <tr>\n",
       "      <th>4</th>\n",
       "      <td>0</td>\n",
       "      <td>0</td>\n",
       "      <td>0</td>\n",
       "      <td>0</td>\n",
       "      <td>0</td>\n",
       "      <td>0</td>\n",
       "      <td>0</td>\n",
       "      <td>0</td>\n",
       "      <td>0</td>\n",
       "      <td>0</td>\n",
       "      <td>...</td>\n",
       "      <td>376</td>\n",
       "      <td>377</td>\n",
       "      <td>245</td>\n",
       "      <td>378</td>\n",
       "      <td>379</td>\n",
       "      <td>181</td>\n",
       "      <td>5</td>\n",
       "      <td>380</td>\n",
       "      <td>239</td>\n",
       "      <td>1</td>\n",
       "    </tr>\n",
       "  </tbody>\n",
       "</table>\n",
       "<p>5 rows × 100 columns</p>\n",
       "</div>"
      ],
      "text/plain": [
       "    0    1    2   3    4    5    6    7    8   9   ...   90   91   92   93  \\\n",
       "0    0    0    0   0    0    0    0    0    0   0  ...  555    5  232  556   \n",
       "1  147  562  119   0  563  179  564  565  344  11  ...  600  354    2   83   \n",
       "2    0    0    0   0    0    0    0    0    0  43  ...  241   31  119  242   \n",
       "3    0    0    0   0    0    0    0    0    0   0  ...  376  377  245  378   \n",
       "4    0    0    0   0    0    0    0    0    0   0  ...  376  377  245  378   \n",
       "\n",
       "    94   95   96   97   98  99  \n",
       "0  115  117  176   82  342   1  \n",
       "1  238  601  602  354    3   1  \n",
       "2  101  146    0  633  634   1  \n",
       "3  379  181    5  380  239   1  \n",
       "4  379  181    5  380  239   1  \n",
       "\n",
       "[5 rows x 100 columns]"
      ]
     },
     "execution_count": 178,
     "metadata": {},
     "output_type": "execute_result"
    }
   ],
   "source": [
    "visualize_df = pd.DataFrame(x_train)\n",
    "visualize_df.head() #視覺化查看資料"
   ]
  },
  {
   "cell_type": "code",
   "execution_count": 179,
   "metadata": {},
   "outputs": [
    {
     "data": {
      "text/html": [
       "<div>\n",
       "<style scoped>\n",
       "    .dataframe tbody tr th:only-of-type {\n",
       "        vertical-align: middle;\n",
       "    }\n",
       "\n",
       "    .dataframe tbody tr th {\n",
       "        vertical-align: top;\n",
       "    }\n",
       "\n",
       "    .dataframe thead th {\n",
       "        text-align: right;\n",
       "    }\n",
       "</style>\n",
       "<table border=\"1\" class=\"dataframe\">\n",
       "  <thead>\n",
       "    <tr style=\"text-align: right;\">\n",
       "      <th></th>\n",
       "      <th>0</th>\n",
       "      <th>1</th>\n",
       "      <th>2</th>\n",
       "      <th>3</th>\n",
       "    </tr>\n",
       "  </thead>\n",
       "  <tbody>\n",
       "    <tr>\n",
       "      <th>0</th>\n",
       "      <td>0.0</td>\n",
       "      <td>1.0</td>\n",
       "      <td>0.0</td>\n",
       "      <td>0.0</td>\n",
       "    </tr>\n",
       "    <tr>\n",
       "      <th>1</th>\n",
       "      <td>0.0</td>\n",
       "      <td>0.0</td>\n",
       "      <td>0.0</td>\n",
       "      <td>1.0</td>\n",
       "    </tr>\n",
       "    <tr>\n",
       "      <th>2</th>\n",
       "      <td>0.0</td>\n",
       "      <td>0.0</td>\n",
       "      <td>1.0</td>\n",
       "      <td>0.0</td>\n",
       "    </tr>\n",
       "    <tr>\n",
       "      <th>3</th>\n",
       "      <td>0.0</td>\n",
       "      <td>0.0</td>\n",
       "      <td>1.0</td>\n",
       "      <td>0.0</td>\n",
       "    </tr>\n",
       "    <tr>\n",
       "      <th>4</th>\n",
       "      <td>0.0</td>\n",
       "      <td>0.0</td>\n",
       "      <td>1.0</td>\n",
       "      <td>0.0</td>\n",
       "    </tr>\n",
       "  </tbody>\n",
       "</table>\n",
       "</div>"
      ],
      "text/plain": [
       "     0    1    2    3\n",
       "0  0.0  1.0  0.0  0.0\n",
       "1  0.0  0.0  0.0  1.0\n",
       "2  0.0  0.0  1.0  0.0\n",
       "3  0.0  0.0  1.0  0.0\n",
       "4  0.0  0.0  1.0  0.0"
      ]
     },
     "execution_count": 179,
     "metadata": {},
     "output_type": "execute_result"
    }
   ],
   "source": [
    "visualize_df = pd.DataFrame(y_train)\n",
    "visualize_df.head() #視覺化查看資料"
   ]
  },
  {
   "cell_type": "code",
   "execution_count": null,
   "metadata": {},
   "outputs": [],
   "source": []
  }
 ],
 "metadata": {
  "kernelspec": {
   "display_name": "Python 3",
   "language": "python",
   "name": "python3"
  },
  "language_info": {
   "codemirror_mode": {
    "name": "ipython",
    "version": 3
   },
   "file_extension": ".py",
   "mimetype": "text/x-python",
   "name": "python",
   "nbconvert_exporter": "python",
   "pygments_lexer": "ipython3",
   "version": "3.7.3"
  }
 },
 "nbformat": 4,
 "nbformat_minor": 2
}
